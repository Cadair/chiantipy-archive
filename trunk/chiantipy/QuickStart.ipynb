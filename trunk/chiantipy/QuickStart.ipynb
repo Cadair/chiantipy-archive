{
 "metadata": {
  "name": "",
  "signature": "sha256:1a448f4093e44fda761af9c9d944bf367bcbb88bdac112e3636b97e0b3194774"
 },
 "nbformat": 3,
 "nbformat_minor": 0,
 "worksheets": [
  {
   "cells": [
    {
     "cell_type": "code",
     "collapsed": false,
     "input": [
      "os.environ['XUVTOP']"
     ],
     "language": "python",
     "metadata": {},
     "outputs": [
      {
       "metadata": {},
       "output_type": "pyout",
       "prompt_number": 1,
       "text": [
        "'/data2/svn/chianti/dbase/trunk'"
       ]
      }
     ],
     "prompt_number": 1
    },
    {
     "cell_type": "markdown",
     "metadata": {},
     "source": [
      "This short tutorial will demonstrate some of the capabilities of ChiantiPy and the CHIANTI database. It assumes that you know what the CHIANTI database provides and why you want to use it. The current implementation uses Version 0.6 of ChiantiPy and version 8.0 of the CHIANTI database and mainly provides access to methods concerned with single ions. An ion such as Fe XIV is specified by the string \u2018fe_14\u2019, in the usual CHIANTI notation.\n",
      "\n",
      "Bring up a Python session (using > Python -i ), or better yet, an IPython session\n",
      "\n",
      "In my Ipython 00-setup.py file I have already preformed"
     ]
    },
    {
     "cell_type": "code",
     "collapsed": false,
     "input": [
      "import chianti\n",
      "import chianti.core as ch\n",
      "import numpy as np\n",
      "import matplotlib.pylab as pl\n",
      "%matplotlib"
     ],
     "language": "python",
     "metadata": {},
     "outputs": [
      {
       "output_type": "stream",
       "stream": "stdout",
       "text": [
        "Using matplotlib backend: Qt4Agg\n"
       ]
      }
     ],
     "prompt_number": 2
    },
    {
     "cell_type": "markdown",
     "metadata": {},
     "source": [
      "the following import is also useful for this demo"
     ]
    },
    {
     "cell_type": "code",
     "collapsed": false,
     "input": [
      "import chianti.filters as chfilters"
     ],
     "language": "python",
     "metadata": {},
     "outputs": [],
     "prompt_number": 3
    },
    {
     "cell_type": "code",
     "collapsed": false,
     "input": [
      "chianti.Version"
     ],
     "language": "python",
     "metadata": {},
     "outputs": [
      {
       "metadata": {},
       "output_type": "pyout",
       "prompt_number": 4,
       "text": [
        "'0.6.0'"
       ]
      }
     ],
     "prompt_number": 4
    },
    {
     "cell_type": "markdown",
     "metadata": {},
     "source": [
      "What we will really be interested in are various properties of the Fe XIV emissivities as a function of temperature and density. So, let\u2019s define a numpy array of temperatures and a value for the electron density"
     ]
    },
    {
     "cell_type": "code",
     "collapsed": false,
     "input": [
      "temp = 10.**(5.8 + 0.05*np.arange(21.))\n",
      "edens = 1.e+9"
     ],
     "language": "python",
     "metadata": {},
     "outputs": [],
     "prompt_number": 5
    },
    {
     "cell_type": "markdown",
     "metadata": {},
     "source": [
      "In ChiantiPy, temperatures are currently given in degrees Kelvin and densities as the number electron density per cubic cm. Then, construct fe14 as would be typically done"
     ]
    },
    {
     "cell_type": "code",
     "collapsed": false,
     "input": [
      "fe14 = ch.ion('fe_14', temperature=temp, eDensity=edens)"
     ],
     "language": "python",
     "metadata": {},
     "outputs": [],
     "prompt_number": 6
    },
    {
     "cell_type": "markdown",
     "metadata": {},
     "source": [
      "alternately, since **temperature** and **eDensity** are the first keyword arguments\n",
      "fe14 = ch.ion('fe_14', temp, edens)"
     ]
    },
    {
     "cell_type": "markdown",
     "metadata": {},
     "source": [
      "Level populations\n",
      "================="
     ]
    },
    {
     "cell_type": "code",
     "collapsed": false,
     "input": [
      "fe14.popPlot()"
     ],
     "language": "python",
     "metadata": {},
     "outputs": [
      {
       "output_type": "stream",
       "stream": "stdout",
       "text": [
        " doing ntemp > 1 and ndens > 1\n",
        " ndens =     1 ntemp =    21"
       ]
      },
      {
       "output_type": "stream",
       "stream": "stdout",
       "text": [
        "\n"
       ]
      }
     ],
     "prompt_number": 7
    },
    {
     "cell_type": "code",
     "collapsed": false,
     "input": [
      "qtconsole"
     ],
     "language": "python",
     "metadata": {},
     "outputs": [],
     "prompt_number": 7
    },
    {
     "cell_type": "markdown",
     "metadata": {},
     "source": [
      "produces a matplotlib plot window were the population of the top 10 (the default) levels are plotted as a function of temperature.\n",
      "\n",
      "If the level populations had not already been calculated, popPlot() would have invoked the populate() method which calculates the level populations and stores them in the Population dictionary, with keys = [\u2018protonDensity\u2019, \u2018population\u2019, \u2018temperature\u2019, \u2018density\u2019].\n",
      "\n",
      "The populations vs. temperature is not particularly interesting.  Plotting them vs. density is more interesting and will come latere"
     ]
    },
    {
     "cell_type": "markdown",
     "metadata": {},
     "source": [
      "A ChiantiPy Convention\n",
      "======================\n",
      "\n",
      "Classes and function of ChiantiPy start with lower case letters. \n",
      "----------------------------------------------------------------\n",
      "\n",
      "Data attached to the instantiation of a class will start with a capital letter. For example,\n",
      "--------------------------------------------------------------------------------------------\n",
      "\n",
      "fe14.populate() creates fe14.Population containing the level population information\n",
      "\n",
      "fe14.emiss() creates fe14.Emiss containing the line emissivity information\n",
      "\n",
      "fe14.intensity() creates fe14.Intensity containing the line intensity information that includes the elemental abundance and the ionization equilibrium\n",
      "\n",
      "fe14.spectrum() creates fe14.Spectrum contain the line and continuum spectrum information"
     ]
    },
    {
     "cell_type": "markdown",
     "metadata": {},
     "source": [
      "Spectral Line Intensities\n",
      "========================="
     ]
    },
    {
     "cell_type": "code",
     "collapsed": false,
     "input": [
      "fe14.intensity(em=1.e+28)\n",
      "for akey in sorted(fe14.Intensity):\n",
      "    print('%10s'%(akey))"
     ],
     "language": "python",
     "metadata": {},
     "outputs": [
      {
       "output_type": "stream",
       "stream": "stdout",
       "text": [
        "    avalue\n",
        "        em\n",
        "integrated\n",
        " intensity\n",
        "      ionS\n",
        "      lvl1\n",
        "      lvl2\n",
        "       obs\n",
        "   pretty1\n",
        "   pretty2\n",
        "       wvl\n"
       ]
      }
     ],
     "prompt_number": 9
    },
    {
     "cell_type": "markdown",
     "metadata": {},
     "source": [
      "the units for line intensities, the key **intensity**, are erg cm$^{-2}$ s$^{-1}$ sr$^{-1}$ / $\\int N_H d\\ell $, if the emission meassure **em** *not* unspecified"
     ]
    },
    {
     "cell_type": "code",
     "collapsed": false,
     "input": [
      "fe14.intensityList(wvlRange=[210.,220.])"
     ],
     "language": "python",
     "metadata": {},
     "outputs": [
      {
       "output_type": "stream",
       "stream": "stdout",
       "text": [
        "using index =    10 specifying temperature =   2.00e+06, eDensity =    1.00e+09\n",
        "   \n",
        " ------------------------------------------\n",
        "   \n",
        "  Ion  lvl1  lvl2                     lower - upper                           Wvl(A)    Intensity      A value Obs\n",
        "fe_14     1    11              3s2.3p 2P0.5 - 3s2.3d 2D1.5                  211.3172    2.336e+03     3.81e+10 Y\n",
        "fe_14     4    27              3s.3p2 4P1.5 - 3s.3p(3P).3d 4P1.5            212.1255    5.355e+00     2.21e+10 Y\n",
        "fe_14     4    28              3s.3p2 4P1.5 - 3s.3p(3P).3d 4D2.5            212.1682    4.039e+00     1.15e+10 Y\n",
        "fe_14     3    24              3s.3p2 4P0.5 - 3s.3p(3P).3d 4D0.5            213.1955    8.073e+00     4.26e+10 Y\n",
        "fe_14     3    23              3s.3p2 4P0.5 - 3s.3p(3P).3d 4D1.5            213.8822    1.393e+01     2.97e+10 Y\n",
        "fe_14     5    28              3s.3p2 4P2.5 - 3s.3p(3P).3d 4D2.5            216.5786    9.736e+00     2.83e+10 Y\n",
        "fe_14     5    25              3s.3p2 4P2.5 - 3s.3p(3P).3d 4D3.5            216.9173    1.730e+01     4.29e+10 Y\n",
        "fe_14     7    32              3s.3p2 2D2.5 - 3s.3p(3P).3d 2F3.5            218.1767    3.734e+01     1.70e+10 Y\n",
        "fe_14     4    22              3s.3p2 4P1.5 - 3s.3p(3P).3d 4P2.5            218.5725    2.391e+01     2.65e+10 Y\n",
        "fe_14     2    12              3s2.3p 2P1.5 - 3s2.3d 2D2.5                  219.1305    5.077e+02     4.27e+10 Y\n",
        "   \n",
        " ------------------------------------------\n",
        "   \n"
       ]
      }
     ],
     "prompt_number": 10
    },
    {
     "cell_type": "markdown",
     "metadata": {},
     "source": [
      "here, we have used the default value for the keyword argument **top** which specified how many of the most intense lines to list.  Also, **index** can be specified to give a different temperature, and **relative** can be set to 1 give relative emissivities"
     ]
    },
    {
     "cell_type": "code",
     "collapsed": false,
     "input": [
      "fe14.intensityList(wvlRange=[210.,220.], relative=1, index=11)"
     ],
     "language": "python",
     "metadata": {},
     "outputs": [
      {
       "output_type": "stream",
       "stream": "stdout",
       "text": [
        "using index =    11 specifying temperature =   2.24e+06, eDensity =    1.00e+09\n",
        "   \n",
        " ------------------------------------------\n",
        "   \n",
        "  Ion  lvl1  lvl2                     lower - upper                           Wvl(A)    Intensity      A value Obs\n",
        "fe_14     1    11              3s2.3p 2P0.5 - 3s2.3d 2D1.5                  211.3172    1.000e+00     3.81e+10 Y\n",
        "fe_14     4    27              3s.3p2 4P1.5 - 3s.3p(3P).3d 4P1.5            212.1255    2.267e-03     2.21e+10 Y\n",
        "fe_14     4    28              3s.3p2 4P1.5 - 3s.3p(3P).3d 4D2.5            212.1682    1.694e-03     1.15e+10 Y\n",
        "fe_14     3    24              3s.3p2 4P0.5 - 3s.3p(3P).3d 4D0.5            213.1955    3.390e-03     4.26e+10 Y\n",
        "fe_14     3    23              3s.3p2 4P0.5 - 3s.3p(3P).3d 4D1.5            213.8822    5.891e-03     2.97e+10 Y\n",
        "fe_14     5    28              3s.3p2 4P2.5 - 3s.3p(3P).3d 4D2.5            216.5786    4.083e-03     2.83e+10 Y\n",
        "fe_14     5    25              3s.3p2 4P2.5 - 3s.3p(3P).3d 4D3.5            216.9173    7.085e-03     4.29e+10 Y\n",
        "fe_14     7    32              3s.3p2 2D2.5 - 3s.3p(3P).3d 2F3.5            218.1767    1.557e-02     1.70e+10 Y\n",
        "fe_14     4    22              3s.3p2 4P1.5 - 3s.3p(3P).3d 4P2.5            218.5725    1.009e-02     2.65e+10 Y\n",
        "fe_14     2    12              3s2.3p 2P1.5 - 3s2.3d 2D2.5                  219.1305    2.096e-01     4.27e+10 Y\n",
        "   \n",
        " ------------------------------------------\n",
        "   \n"
       ]
      }
     ],
     "prompt_number": 11
    },
    {
     "cell_type": "markdown",
     "metadata": {},
     "source": [
      "optionally, an output file could also be created by setting the keyword **outFile** to the name of the desired name"
     ]
    },
    {
     "cell_type": "markdown",
     "metadata": {},
     "source": [
      "Intensity Ratios\n",
      "================"
     ]
    },
    {
     "cell_type": "code",
     "collapsed": false,
     "input": [
      "fe14.intensityRatio(wvlRange=[210., 225.])"
     ],
     "language": "python",
     "metadata": {},
     "outputs": [
      {
       "output_type": "stream",
       "stream": "stdout",
       "text": [
        " doing ntemp > 1 and ndens > 1\n",
        " ndens =     1 ntemp =    21"
       ]
      },
      {
       "output_type": "stream",
       "stream": "stdout",
       "text": [
        "\n"
       ]
      }
     ],
     "prompt_number": 7
    },
    {
     "cell_type": "markdown",
     "metadata": {},
     "source": [
      "this brings up a plot showing the relative emissivities on the top 10 Fe XIV lines\n",
      "followed by a dialog where you can selector the numerator(s) and denominator(s) of the desired intensity ratio\n",
      "so the specified ratio is then plotted\n",
      "the intensityRatio as a function of temperature and density can be save to a text file with the following"
     ]
    },
    {
     "cell_type": "code",
     "collapsed": false,
     "input": [
      "fe14.intensityRatioSave()"
     ],
     "language": "python",
     "metadata": {},
     "outputs": [
      {
       "output_type": "stream",
       "stream": "stdout",
       "text": [
        " saving ratio to filename = fe_14_211.3172-_219.1305.rat\n"
       ]
      }
     ],
     "prompt_number": 13
    },
    {
     "cell_type": "code",
     "collapsed": false,
     "input": [
      "fe14.intensityRatioSave(outFile='myratio.txt')"
     ],
     "language": "python",
     "metadata": {},
     "outputs": [],
     "prompt_number": 14
    },
    {
     "cell_type": "markdown",
     "metadata": {},
     "source": [
      "or, eventually we will have to use unicode "
     ]
    },
    {
     "cell_type": "code",
     "collapsed": false,
     "input": [
      "fe14.intensityRatioSave(outFile=u'myratio2.txt')"
     ],
     "language": "python",
     "metadata": {},
     "outputs": [],
     "prompt_number": 15
    },
    {
     "cell_type": "markdown",
     "metadata": {},
     "source": [
      "**The role of the electron density in line intensities**"
     ]
    },
    {
     "cell_type": "code",
     "collapsed": false,
     "input": [
      "del fe14\n",
      "temp = 2.e+6\n",
      "dens = 10.**(6. + 0.1*np.arange(61))\n",
      "fe14 = ch.ion('fe_14', temp, dens)\n",
      "fe14.popPlot()"
     ],
     "language": "python",
     "metadata": {},
     "outputs": [
      {
       "output_type": "stream",
       "stream": "stdout",
       "text": [
        " doing ntemp > 1 and ndens > 1\n",
        " ndens =    61 ntemp =     1"
       ]
      },
      {
       "output_type": "stream",
       "stream": "stdout",
       "text": [
        "\n"
       ]
      }
     ],
     "prompt_number": 7
    },
    {
     "cell_type": "markdown",
     "metadata": {},
     "source": [
      "a plot of the population of the top 10 levels is produced as a function of the electron density"
     ]
    },
    {
     "cell_type": "code",
     "collapsed": false,
     "input": [
      "fe14.intensityRatio(wvlRange=[210.,220.])"
     ],
     "language": "python",
     "metadata": {},
     "outputs": [
      {
       "output_type": "stream",
       "stream": "stdout",
       "text": [
        " ndens =    61 ntemp =     1\n"
       ]
      }
     ],
     "prompt_number": 8
    },
    {
     "cell_type": "markdown",
     "metadata": {},
     "source": [
      "to obtain ratios of lines widely separated in wavelength, the **wvlRanges** keyword can be used"
     ]
    },
    {
     "cell_type": "code",
     "collapsed": false,
     "input": [
      "temp = 10.**(5.8 + 0.05*np.arange(21.))\n",
      "edens = 1.e+9\n",
      "fe12 = ch.ion('fe_12', temperature=temp, eDensity=edens)\n",
      "fe12.intensityRatio(wvlRanges=[[190.,200.],[1240.,1250.]])"
     ],
     "language": "python",
     "metadata": {},
     "outputs": [
      {
       "output_type": "stream",
       "stream": "stdout",
       "text": [
        " doing ntemp > 1 and ndens > 1\n",
        " ndens =     1 ntemp =    21"
       ]
      },
      {
       "output_type": "stream",
       "stream": "stdout",
       "text": [
        "\n"
       ]
      }
     ],
     "prompt_number": 9
    },
    {
     "cell_type": "markdown",
     "metadata": {},
     "source": [
      "the most recently calculated intensity ratio is stored in fe14.IntensityRatio, with the following keys:"
     ]
    },
    {
     "cell_type": "code",
     "collapsed": false,
     "input": [
      "for akey in sorted(fe14.IntensityRatio):\n",
      "    print('%10s'%(akey))"
     ],
     "language": "python",
     "metadata": {},
     "outputs": [
      {
       "output_type": "stream",
       "stream": "stdout",
       "text": [
        "    denIdx\n",
        "      desc\n",
        "  eDensity\n",
        "  filename\n",
        "    numIdx\n",
        "     ratio\n",
        "temperature\n"
       ]
      }
     ],
     "prompt_number": 11
    },
    {
     "cell_type": "markdown",
     "metadata": {},
     "source": [
      "G(n,T) function or G(T)\n",
      "=======================\n",
      "\n",
      "When G(n,T), for specific spectral line, is multiplied by the line of sight **emission measure**, $\\int$ n$_e$ n_$H$ d $\\ell$, it provides the predicted value of the line intensity in units of erg cm$^{-2}$ s$^{-1}$ sr$^{-1}$, if the value for **flux** in the** Defaults** is set to **energy** (the default value).  If **flux** is set to photon, the intensity is given in units of\n",
      "\n",
      "\n",
      "photons cm$^{-2}$ s$^{-1}$ sr$^{-1}$.\n",
      "\n",
      "A **chiantirc** file is included with the ChiantiPy distribution. If it is placed in $HOME/.chianti it will be read when ChiantiPy is initiated.  Editing this file allows you to specify the values of **flux** that you want and other things such as the set of elemental abundances and the ionization equilibrium."
     ]
    },
    {
     "cell_type": "code",
     "collapsed": false,
     "input": [
      "del fe14\n",
      "temp = 10.**(5.8 + 0.05*np.arange(21.))\n",
      "dens = 1.e+9\n",
      "fe14 = ch.ion('fe_14', temp, dens)"
     ],
     "language": "python",
     "metadata": {},
     "outputs": [],
     "prompt_number": 10
    },
    {
     "cell_type": "code",
     "collapsed": false,
     "input": [
      "fe14.gofnt(wvlRange=[210., 220.],top=5)"
     ],
     "language": "python",
     "metadata": {},
     "outputs": [
      {
       "output_type": "stream",
       "stream": "stdout",
       "text": [
        " doing ntemp > 1 and ndens > 1\n",
        " ndens =     1 ntemp =    21"
       ]
      },
      {
       "output_type": "stream",
       "stream": "stdout",
       "text": [
        "\n"
       ]
      }
     ],
     "prompt_number": 11
    },
    {
     "cell_type": "markdown",
     "metadata": {},
     "source": [
      "this brings up a plot of relative line ratios vs temperature and a single selection widget, similar to the intensityRatio process.  Multiple lines can be selected with the *control* key and their G(T) functions will summed."
     ]
    },
    {
     "cell_type": "markdown",
     "metadata": {},
     "source": [
      "The **g(n,T)** calculation is stored in the **Gofnt** dictionary, with keys"
     ]
    },
    {
     "cell_type": "code",
     "collapsed": false,
     "input": [
      "sorted(fe14.Gofnt.keys())"
     ],
     "language": "python",
     "metadata": {},
     "outputs": [
      {
       "metadata": {},
       "output_type": "pyout",
       "prompt_number": 12,
       "text": [
        "['eDensity', 'gofnt', 'index', 'temperature', 'wvl']"
       ]
      }
     ],
     "prompt_number": 12
    },
    {
     "cell_type": "code",
     "collapsed": false,
     "input": [
      "fe14.Gofnt['wvl']"
     ],
     "language": "python",
     "metadata": {},
     "outputs": [
      {
       "metadata": {},
       "output_type": "pyout",
       "prompt_number": 13,
       "text": [
        "array([ 211.3172])"
       ]
      }
     ],
     "prompt_number": 13
    },
    {
     "cell_type": "markdown",
     "metadata": {},
     "source": [
      "while the is a fairly straightforward way to get a G(T) function, it is not very practical to use for a more than a handful of lines.  For if the fe_14 line at 211.3172 is in a list of lines to be analyzed, a more practical way is the following"
     ]
    },
    {
     "cell_type": "code",
     "collapsed": false,
     "input": [
      "fe14.intensity()\n",
      "dist = np.abs(np.asarray(fe14.Intensity['wvl']) - 211.3172)\n",
      "idx = np.argmin(dist)\n",
      "fe14.Intensity['wvl'][idx]\n"
     ],
     "language": "python",
     "metadata": {},
     "outputs": [
      {
       "metadata": {},
       "output_type": "pyout",
       "prompt_number": 14,
       "text": [
        "211.31720000000001"
       ]
      }
     ],
     "prompt_number": 14
    },
    {
     "cell_type": "code",
     "collapsed": false,
     "input": [
      "pl.loglog(temp,fe14.Intensity['intensity'][:,idx])"
     ],
     "language": "python",
     "metadata": {},
     "outputs": [
      {
       "metadata": {},
       "output_type": "pyout",
       "prompt_number": 15,
       "text": [
        "[<matplotlib.lines.Line2D at 0x7f33dc8fe750>]"
       ]
      }
     ],
     "prompt_number": 15
    },
    {
     "cell_type": "markdown",
     "metadata": {},
     "source": [
      "once the axes are properly scaled, this produces the same values as fe14.Gofnt['gofnt']"
     ]
    },
    {
     "cell_type": "markdown",
     "metadata": {},
     "source": [
      "Spectrum of a single ion\n",
      "========================"
     ]
    },
    {
     "cell_type": "code",
     "collapsed": false,
     "input": [
      "del fe14\n",
      "fe14 = ch.ion('fe_14', temperature = 2.e+6, eDensity = 1.e+9)\n",
      "wvl = 200. + 0.125*np.arange(801)\n",
      "fe14.spectrum(wvl, em=1.e+27)\n",
      "pl.figure()\n",
      "pl.plot(wvl, fe14.Spectrum['intensity'])"
     ],
     "language": "python",
     "metadata": {},
     "outputs": [
      {
       "metadata": {},
       "output_type": "pyout",
       "prompt_number": 17,
       "text": [
        "[<matplotlib.lines.Line2D at 0x7f33dc837490>]"
       ]
      }
     ],
     "prompt_number": 17
    },
    {
     "cell_type": "markdown",
     "metadata": {},
     "source": [
      "this calculates the spectrum of fe_14 over the specified wavelength range and filter it with the default filter which is a gaussian (filters.gaussianR) with a \u2018resolving power\u2019 of 1000 which gives a gaussian width of wvl/1000.  Other filters available in chianti.filters include a boxcar filter and a gaussian filter where the gaussian width can be specified directly\n",
      "\n",
      "the units of the vertical axis is erg cm$^{-2}$ s$^{-1}$ sr$^{-1}$ $\\mathring A$$^{-1}$ since the value of the emission measure **em** has been specified"
     ]
    },
    {
     "cell_type": "code",
     "collapsed": false,
     "input": [
      "if hasattr(fe14,'Em'):\n",
      "    print(' Emission Measure = %12.2e'%(fe14.Em))\n",
      "else:\n",
      "    print(' the value for the emission measure is unspecified')"
     ],
     "language": "python",
     "metadata": {},
     "outputs": [
      {
       "output_type": "stream",
       "stream": "stdout",
       "text": [
        " Emission Measure =     1.00e+27\n"
       ]
      }
     ],
     "prompt_number": 18
    },
    {
     "cell_type": "code",
     "collapsed": false,
     "input": [
      "fe14.spectrum(wvl,filter=(chfilters.gaussian,.4))\n",
      "pl.figure()\n",
      "pl.plot(wvl, fe14.Spectrum['intensity'])"
     ],
     "language": "python",
     "metadata": {},
     "outputs": [
      {
       "metadata": {},
       "output_type": "pyout",
       "prompt_number": 19,
       "text": [
        "[<matplotlib.lines.Line2D at 0x7f33dc7fd190>]"
       ]
      }
     ],
     "prompt_number": 19
    },
    {
     "cell_type": "markdown",
     "metadata": {},
     "source": [
      "calculates the spectrum of fe_14 for a gaussian filter with a width of 0.4 Angstroms.  The current value of the spectrum is kept in fe14.Spectrum with the following keys:"
     ]
    },
    {
     "cell_type": "code",
     "collapsed": false,
     "input": [
      "for akey in sorted(fe14.Spectrum.keys()):\n",
      "    print(' %10s'%(akey))"
     ],
     "language": "python",
     "metadata": {},
     "outputs": [
      {
       "output_type": "stream",
       "stream": "stdout",
       "text": [
        "   allLines\n",
        "         em\n",
        "     filter\n",
        " filterWidth\n",
        "  intensity\n",
        "        wvl\n",
        "     xlabel\n",
        "     ylabel\n"
       ]
      }
     ],
     "prompt_number": 20
    },
    {
     "cell_type": "code",
     "collapsed": false,
     "input": [
      "if hasattr(fe14,'Em'):\n",
      "    print(' Emission Measure = %12.2e'%(fe14.Em))\n",
      "else:\n",
      "    print(' the value for the emission measure is unspecified')"
     ],
     "language": "python",
     "metadata": {},
     "outputs": [
      {
       "output_type": "stream",
       "stream": "stdout",
       "text": [
        " Emission Measure =     1.00e+27\n"
       ]
      }
     ],
     "prompt_number": 21
    },
    {
     "cell_type": "markdown",
     "metadata": {},
     "source": [
      "Here, the previously value of the emission measure has been used"
     ]
    },
    {
     "cell_type": "code",
     "collapsed": false,
     "input": [
      "pl.xlabel(fe14.Spectrum['xlabel'])\n",
      "pl.ylabel(fe14.Spectrum['ylabel'])"
     ],
     "language": "python",
     "metadata": {},
     "outputs": [
      {
       "metadata": {},
       "output_type": "pyout",
       "prompt_number": 22,
       "text": [
        "<matplotlib.text.Text at 0x7f33dc1ea650>"
       ]
      }
     ],
     "prompt_number": 22
    },
    {
     "cell_type": "markdown",
     "metadata": {},
     "source": [
      "In ChiantiPy 0.6, the **label** keyword has been added to the ion.spectrum method, and also to the other various spectral classes.  This allows several spectral calculations for different filters to be saved and compared"
     ]
    },
    {
     "cell_type": "code",
     "collapsed": false,
     "input": [
      "del fe14\n",
      "temp = 10.**(5.8 + 0.1*np.arange(11.))\n",
      "dens = 1.e+9\n",
      "fe14 = ch.ion('fe_14', temp, dens)"
     ],
     "language": "python",
     "metadata": {},
     "outputs": [],
     "prompt_number": 28
    },
    {
     "cell_type": "code",
     "collapsed": false,
     "input": [
      "emeas = np.ones(11,'float64')*1.e+27\n",
      "wvl = 200. + 0.125*np.arange(801)\n",
      "fe14.spectrum(wvl,filter=(chfilters.gaussian,.4),label='.4',em=emeas)\n",
      "fe14.spectrum(wvl,filter=(chfilters.gaussian,1.),label='1.')"
     ],
     "language": "python",
     "metadata": {},
     "outputs": [
      {
       "output_type": "stream",
       "stream": "stdout",
       "text": [
        " doing ntemp > 1 and ndens > 1\n"
       ]
      }
     ],
     "prompt_number": 29
    },
    {
     "cell_type": "code",
     "collapsed": false,
     "input": [
      "for akey in sorted(fe14.Spectrum.keys()):\n",
      "    print(' %10s'%(akey))"
     ],
     "language": "python",
     "metadata": {},
     "outputs": [
      {
       "output_type": "stream",
       "stream": "stdout",
       "text": [
        "         .4\n",
        "         1.\n"
       ]
      }
     ],
     "prompt_number": 30
    },
    {
     "cell_type": "code",
     "collapsed": false,
     "input": [
      "for akey in sorted(fe14.Spectrum['.4'].keys()):\n",
      "    print(' %10s'%(akey))"
     ],
     "language": "python",
     "metadata": {},
     "outputs": [
      {
       "output_type": "stream",
       "stream": "stdout",
       "text": [
        "   allLines\n",
        "         em\n",
        "     filter\n",
        " filterWidth\n",
        "  intensity\n",
        "        wvl\n",
        "     xlabel\n",
        "     ylabel\n"
       ]
      }
     ],
     "prompt_number": 31
    },
    {
     "cell_type": "code",
     "collapsed": false,
     "input": [
      "pl.figure()\n",
      "pl.plot(wvl,fe14.Spectrum['.4']['intensity'][5])\n",
      "pl.plot(wvl,fe14.Spectrum['1.']['intensity'][5],'-r')"
     ],
     "language": "python",
     "metadata": {},
     "outputs": [
      {
       "metadata": {},
       "output_type": "pyout",
       "prompt_number": 32,
       "text": [
        "[<matplotlib.lines.Line2D at 0x7f33df646d10>]"
       ]
      }
     ],
     "prompt_number": 32
    },
    {
     "cell_type": "markdown",
     "metadata": {},
     "source": [
      "Free-free and free-bound continuum\n",
      "==================================\n",
      "\n",
      "The module continuum provides the ability to calculate the free-free, free-bound continuum spectrum for a large number of individual ions.  The two-photon continuum is produced only by the hydrogen-like and helium-like ions"
     ]
    },
    {
     "cell_type": "code",
     "collapsed": false,
     "input": [
      "temperature = 2.e+7\n",
      "c = ch.continuum('fe_25', temperature = temperature, em=1.e+27)\n",
      "wvl = 1. + 0.002*np.arange(4501)\n",
      "c.freeFree(wvl)\n",
      "pl.figure()\n",
      "pl.plot(wvl, c.FreeFree['rate'],label='ff')\n",
      "c.freeBound(wvl)\n",
      "pl.plot(wvl, c.FreeBound['rate'],label='fb')\n",
      "fe25=ch.ion('fe_25',2.e+7,1.e+9,em=1.e+18)\n",
      "fe25.twoPhoton(wvl)\n",
      "pl.plot(wvl,fe25.TwoPhoton['rate'],label='2 photon')\n",
      "pl.legend(loc='upper right')"
     ],
     "language": "python",
     "metadata": {},
     "outputs": [
      {
       "metadata": {},
       "output_type": "pyout",
       "prompt_number": 34,
       "text": [
        "<matplotlib.legend.Legend at 0x7f33dc7d3390>"
       ]
      }
     ],
     "prompt_number": 34
    },
    {
     "cell_type": "markdown",
     "metadata": {},
     "source": [
      "In the continuum calculations, Fe XXV in this case, is the target ion for the free-free calculation. For the free-bound calculation, specified ion is also the target ion. In this case, the radiative recombination spectrum of Fe XXV recombining to form Fe XXIV is returned.  **Note** this will bring up an error message.  Things are probably OK for the present."
     ]
    },
    {
     "cell_type": "markdown",
     "metadata": {},
     "source": [
      "Spectra of multiple ions and continuum\n",
      "======================================\n",
      "\n",
      "the spectrum for selection of all of the ions in the CHIANTI database can also be calculated. There are 3 spectral classes.\n",
      "\n",
      "  1.  spectrum - the single processor implementation that can be used anywhere\n",
      "  2.  mspectrum - uses the Python multiprocessing class and cannot be used in a IPython qtconsole or notebook\n",
      "  3.  ipymspectrum [coming in v0.6] - uses the IPython parallel class and can be used in a IPython qtconsole or notebook\n"
     ]
    },
    {
     "cell_type": "code",
     "collapsed": false,
     "input": [
      "temp = [1.e+6, 2.e+6]\n",
      "dens = 1.e+9\n",
      "wvl = 200. + 0.05*np.arange(2001)\n",
      "emeasure = [1.e+27 ,1.e+27]\n",
      "s = ch.spectrum(temp, dens, wvl, filter = (chfilters.gaussian,.2), em = emeasure, doContinuum=0, minAbund=1.e-5)\n",
      "pl.figure()\n",
      "pl.subplot(311)\n",
      "pl.plot(wvl, s.Spectrum['integrated'])\n",
      "pl.title('integrated')\n",
      "pl.subplot(312)\n",
      "pl.plot(wvl, s.Spectrum['intensity'][0])\n",
      "pl.subplot(313)\n",
      "pl.plot(wvl, s.Spectrum['intensity'][1])"
     ],
     "language": "python",
     "metadata": {},
     "outputs": [
      {
       "output_type": "stream",
       "stream": "stdout",
       "text": [
        " elapsed seconds =      121.000\n"
       ]
      },
      {
       "metadata": {},
       "output_type": "pyout",
       "prompt_number": 10,
       "text": [
        "[<matplotlib.lines.Line2D at 0x7f0a650d45d0>]"
       ]
      }
     ],
     "prompt_number": 10
    },
    {
     "cell_type": "markdown",
     "metadata": {},
     "source": [
      "the integrated spectrum is formed by multiplying each spectrum by the value of em (\u2018as in emission measure\u2019) and summing them. Note that even though a value is specified for em, only the values of s.Spectrum[\u2018integrated\u2019] have been multiplied by em. Also, the filter is not applied to the continuum. This spectrum was created with CHIANTI database version 7.14 and ChiantiPy version 0.5.4 using the following default values:"
     ]
    },
    {
     "cell_type": "markdown",
     "metadata": {},
     "source": [
      "setting minAbund = 1.e-6 will include the spectra of 170 ions and take 167 minutes on a 3.5 GHz processor\n",
      "setting minAbund = 1.e-5 will include the spectra of 100 ions and take 121 minutes"
     ]
    },
    {
     "cell_type": "code",
     "collapsed": false,
     "input": [
      "for akey in  chianti.data.Defaults:\n",
      "   print(' %10s - %s'%(akey,chianti.data.Defaults[akey]))"
     ],
     "language": "python",
     "metadata": {},
     "outputs": [
      {
       "output_type": "stream",
       "stream": "stdout",
       "text": [
        " wavelength - angstrom\n",
        "        gui - False\n",
        "  ioneqfile - chianti\n",
        "  abundfile - sun_photospheric_1998_grevesse\n",
        "       flux - energy\n"
       ]
      }
     ],
     "prompt_number": 12
    },
    {
     "cell_type": "markdown",
     "metadata": {},
     "source": [
      "The multi-ion class bunch\n",
      "========================="
     ]
    },
    {
     "cell_type": "markdown",
     "metadata": {},
     "source": [
      "The multi-ion class bunch [new in v0.6] inherits a number of the same methods inherited by the ion class, for example intensityList,*intensityRatio*, and intensityRatioSave. As a short demonstration of its usefulness, Widing and Feldman (1989, ApJ, 344, 1046) used line ratios of Mg VI and Ne VI as diagnostics of elemental abundance variations in the solar atmosphere. For that to be accurate, it is necessary that the lines of the two ions have the same temperature response."
     ]
    },
    {
     "cell_type": "code",
     "collapsed": false,
     "input": [
      "t = 10.**(5.0+0.1*np.arange(11))\n",
      "bnch=ch.bunch(t,1.e+9,wvlRange=[300.,500.],ionList=['ne_6','mg_6'],abundanceName='unity')\n",
      "bnch.intensityRatio(wvlRange=[395.,405.],top=7)"
     ],
     "language": "python",
     "metadata": {},
     "outputs": [
      {
       "output_type": "stream",
       "stream": "stdout",
       "text": [
        " elapsed seconds =        1.000\n",
        " ndens =     1 ntemp =    11\n"
       ]
      }
     ],
     "prompt_number": 8
    },
    {
     "cell_type": "markdown",
     "metadata": {},
     "source": [
      "there seems to be a significant temperature dependence to the ratio, even though both are formed near 4.e+5 K."
     ]
    },
    {
     "cell_type": "markdown",
     "metadata": {},
     "source": [
      "A new keyword argument **keepIons** has been added in v0.6 to the bunch and the 3 spectrum classes."
     ]
    },
    {
     "cell_type": "code",
     "collapsed": false,
     "input": [
      "dwvl = 0.01\n",
      "nwvl = (406.-394.)/dwvl\n",
      "wvl = 394. + dwvl*np.arange(nwvl+1)"
     ],
     "language": "python",
     "metadata": {},
     "outputs": [],
     "prompt_number": 14
    },
    {
     "cell_type": "code",
     "collapsed": false,
     "input": [
      "bnch2=ch.bunch(t, 1.e+9, wvlRange=[wvl.min(),wvl.max()], elementList=['ne','mg'], keepIons=1,em=1.e+27)\n",
      "bnch2.convolve(wvl,filter=(chfilters.gaussian,5.*dwvl))\n",
      "pl.plot(wvl, bnch2.Spectrum['intensity'][6],label='Total')\n",
      "pl.title('Temperature = %10.2e for t[6]'%(t[6]))"
     ],
     "language": "python",
     "metadata": {},
     "outputs": [
      {
       "output_type": "stream",
       "stream": "stdout",
       "text": [
        " elapsed seconds =       11.000\n",
        " elapsed seconds =    0.000e+00"
       ]
      },
      {
       "output_type": "stream",
       "stream": "stdout",
       "text": [
        "\n"
       ]
      },
      {
       "metadata": {},
       "output_type": "pyout",
       "prompt_number": 15,
       "text": [
        "<matplotlib.text.Text at 0x7f0fb236ef10>"
       ]
      }
     ],
     "prompt_number": 15
    },
    {
     "cell_type": "code",
     "collapsed": false,
     "input": [
      "sorted(bnch2.IonInstances.keys())"
     ],
     "language": "python",
     "metadata": {},
     "outputs": [
      {
       "metadata": {},
       "output_type": "pyout",
       "prompt_number": 16,
       "text": [
        "['mg_10',\n",
        " 'mg_10d',\n",
        " 'mg_3',\n",
        " 'mg_4',\n",
        " 'mg_5',\n",
        " 'mg_6',\n",
        " 'mg_8',\n",
        " 'mg_9',\n",
        " 'ne_10',\n",
        " 'ne_2',\n",
        " 'ne_3',\n",
        " 'ne_5',\n",
        " 'ne_6',\n",
        " 'ne_8']"
       ]
      }
     ],
     "prompt_number": 16
    },
    {
     "cell_type": "code",
     "collapsed": false,
     "input": [
      "pl.plot(wvl,bnch2.IonInstances['mg_6'].Spectrum['intensity'][6],'r',label='mg_6')"
     ],
     "language": "python",
     "metadata": {},
     "outputs": [
      {
       "metadata": {},
       "output_type": "pyout",
       "prompt_number": 17,
       "text": [
        "[<matplotlib.lines.Line2D at 0x7f0fb22fd990>]"
       ]
      }
     ],
     "prompt_number": 17
    },
    {
     "cell_type": "code",
     "collapsed": false,
     "input": [
      "pl.legend(loc='upper left')"
     ],
     "language": "python",
     "metadata": {},
     "outputs": [
      {
       "metadata": {},
       "output_type": "pyout",
       "prompt_number": 18,
       "text": [
        "<matplotlib.legend.Legend at 0x7f0fb3ef82d0>"
       ]
      }
     ],
     "prompt_number": 18
    },
    {
     "cell_type": "markdown",
     "metadata": {},
     "source": [
      "Spectra of multiple ions and continuum\n",
      "======================================"
     ]
    },
    {
     "cell_type": "markdown",
     "metadata": {},
     "source": [
      "The spectrum for a selection of all of the ions in the CHIANTI database can also be calculated. There are 3 spectral classes.\n",
      "\n",
      "1. spectrum - the single processor implementation that can be used anywhere\n",
      "2.  mspectrum - uses the Python multiprocessing class and **cannot** be used in a IPython qtconsole or notebook\n",
      "3.  ipymspectrum [new in v0.6] - uses the IPython parallel class and can be used in a IPython qtconsole or notebook\n"
     ]
    },
    {
     "cell_type": "markdown",
     "metadata": {},
     "source": [
      "next, we will use teh ipymspectrum class.  First, it is necessary to start up the cluster.  In some shell\n",
      "> ipcluster start --profile=notebook  --n=4\n",
      "\n",
      "this will start 4 engines if you have 4 cores and will use the notebook profile.  Under my .ipython directory, I have 3 profiles defined, 'profile_default', 'profile_notebook', and 'profile_qtconsole.'  You will at least have the default profile.  In that case \n",
      "\n",
      "> ipcluster start --n=4"
     ]
    },
    {
     "cell_type": "code",
     "collapsed": false,
     "input": [
      "temp = [1.e+6, 2.e+6]\n",
      "dens = 1.e+9\n",
      "wvl = 200. + 0.05*np.arange(2001)\n",
      "emeasure = [1.e+18 ,1.e+18]\n",
      "import chianti.ipymputil as mputil\n",
      "s = ch.ipymspectrum(temp, dens, wvl, filter = (chfilters.gaussian,.2), em = emeasure, doContinuum=0, minAbund=1.e-4,verbose=1)\n",
      "pl.figure\n",
      "pl.plot(wvl, s.Spectrum['integrated'])"
     ],
     "language": "python",
     "metadata": {},
     "outputs": [
      {
       "output_type": "stream",
       "stream": "stdout",
       "text": [
        "     1     h abundance =   1.00e+00 \n",
        "     2    he abundance =   8.51e-02 \n",
        " for ion he_2 do : line\n",
        "     6     c abundance =   3.31e-04 \n",
        " for ion c_1 do : line\n",
        " for ion c_4 do : line\n",
        " for ion c_4d do : line\n",
        " for ion c_5 do : line\n",
        " for ion c_5d do : line\n",
        " for ion c_6 do : line\n",
        "     8     o abundance =   6.76e-04 \n",
        " for ion o_4 do : line\n",
        " for ion o_5 do : line\n",
        " for ion o_6 do : line\n",
        " for ion o_6d do : line\n",
        " for ion o_7 do : line\n",
        " for ion o_7d do : line\n",
        " for ion o_8 do : line\n",
        "    10    ne abundance =   1.20e-04 \n",
        " for ion ne_2 do : line\n",
        " for ion ne_3 do : line\n",
        " for ion ne_4 do : line\n",
        " for ion ne_5 do : line\n",
        " for ion ne_6 do : line\n",
        " for ion ne_7 do : line\n",
        " for ion ne_8 do : line\n",
        " for ion ne_8d do : line\n",
        " for ion ne_9 do : line\n",
        " for ion ne_9d do : line\n",
        " for ion ne_10 do : line\n",
        "     6     c abundance =   3.31e-04 \n",
        " doing ion c_1 for the following processes line\n",
        "     6     c abundance =   3.31e-04 \n",
        " doing ion c_4 for the following processes line\n",
        "     6     c abundance =   3.31e-04 \n",
        " doing ion c_4d for the following processes line\n",
        "     6     c abundance =   3.31e-04 \n",
        " doing ion c_5 for the following processes line\n",
        "     6     c abundance =   3.31e-04 \n",
        " doing ion c_5d for the following processes line\n",
        "     6     c abundance =   3.31e-04 \n",
        " doing ion c_6 for the following processes line\n",
        "     2    he abundance =   8.51e-02 \n",
        " doing ion he_2 for the following processes line\n",
        "    10    ne abundance =   1.20e-04 \n",
        " doing ion ne_10 for the following processes line\n",
        "    10    ne abundance =   1.20e-04 \n",
        " doing ion ne_2 for the following processes line\n",
        "    10    ne abundance =   1.20e-04 \n",
        " doing ion ne_3 for the following processes line\n",
        "    10    ne abundance =   1.20e-04 \n",
        " doing ion ne_4 for the following processes line\n",
        "    10    ne abundance =   1.20e-04 \n",
        " doing ion ne_5 for the following processes line\n",
        "    10    ne abundance =   1.20e-04 \n",
        " doing ion ne_6 for the following processes line\n",
        "    10    ne abundance =   1.20e-04 \n",
        " doing ion ne_7 for the following processes line\n",
        "    10    ne abundance =   1.20e-04 \n",
        " doing ion ne_8 for the following processes line\n",
        "    10    ne abundance =   1.20e-04 \n",
        " doing ion ne_8d for the following processes line\n",
        "    10    ne abundance =   1.20e-04 \n",
        " doing ion ne_9 for the following processes line\n",
        "    10    ne abundance =   1.20e-04 \n",
        " doing ion ne_9d for the following processes line\n",
        "     8     o abundance =   6.76e-04 \n",
        " doing ion o_4 for the following processes line\n",
        "     8     o abundance =   6.76e-04 \n",
        " doing ion o_5 for the following processes line\n",
        "     8     o abundance =   6.76e-04 \n",
        " doing ion o_6 for the following processes line\n",
        "     8     o abundance =   6.76e-04 \n",
        " doing ion o_6d for the following processes line\n",
        "     8     o abundance =   6.76e-04 \n",
        " doing ion o_7 for the following processes line\n",
        "     8     o abundance =   6.76e-04 \n",
        " doing ion o_7d for the following processes line\n",
        "     8     o abundance =   6.76e-04 \n",
        " doing ion o_8 for the following processes line\n",
        " got all ff, fb, line results"
       ]
      },
      {
       "output_type": "stream",
       "stream": "stdout",
       "text": [
        "\n",
        " collecting calculation for ImportError\n",
        " processing No module named chianti.ipymputil results\n",
        " collecting calculation for ImportError\n",
        " processing No module named chianti.ipymputil results\n",
        " collecting calculation for ImportError\n",
        " processing No module named chianti.ipymputil results\n",
        " collecting calculation for ImportError\n",
        " processing No module named chianti.ipymputil results\n",
        " collecting calculation for ImportError\n",
        " processing No module named chianti.ipymputil results\n",
        " collecting calculation for ImportError\n",
        " processing No module named chianti.ipymputil results\n",
        " collecting calculation for ImportError\n",
        " processing No module named chianti.ipymputil results\n",
        " collecting calculation for ImportError\n",
        " processing No module named chianti.ipymputil results\n",
        " collecting calculation for ImportError\n",
        " processing No module named chianti.ipymputil results\n",
        " collecting calculation for ImportError\n",
        " processing No module named chianti.ipymputil results\n",
        " collecting calculation for ImportError\n",
        " processing No module named chianti.ipymputil results\n",
        " collecting calculation for ImportError\n",
        " processing No module named chianti.ipymputil results\n",
        " collecting calculation for ImportError\n",
        " processing No module named chianti.ipymputil results\n",
        " collecting calculation for ImportError\n",
        " processing No module named chianti.ipymputil results\n",
        " collecting calculation for ImportError\n",
        " processing No module named chianti.ipymputil results\n",
        " collecting calculation for ImportError\n",
        " processing No module named chianti.ipymputil results\n",
        " collecting calculation for ImportError\n",
        " processing No module named chianti.ipymputil results\n",
        " collecting calculation for ImportError\n",
        " processing No module named chianti.ipymputil results\n",
        " collecting calculation for ImportError\n",
        " processing No module named chianti.ipymputil results\n",
        " collecting calculation for ImportError\n",
        " processing No module named chianti.ipymputil results\n",
        " collecting calculation for ImportError\n",
        " processing No module named chianti.ipymputil results\n",
        " collecting calculation for ImportError\n",
        " processing No module named chianti.ipymputil results\n",
        " collecting calculation for ImportError\n",
        " processing No module named chianti.ipymputil results\n",
        " collecting calculation for ImportError\n",
        " processing No module named chianti.ipymputil results\n",
        " collecting calculation for ImportError\n",
        " processing No module named chianti.ipymputil results\n",
        " elapsed seconds =    0.000e+00\n"
       ]
      },
      {
       "metadata": {},
       "output_type": "pyout",
       "prompt_number": 9,
       "text": [
        "[<matplotlib.lines.Line2D at 0x7f2a48f2b250>]"
       ]
      }
     ],
     "prompt_number": 9
    },
    {
     "cell_type": "markdown",
     "metadata": {},
     "source": [
      "basically a replay of earlier code"
     ]
    },
    {
     "cell_type": "markdown",
     "metadata": {},
     "source": [
      "[New in version 0.6] One can also use a different abundance file than the default by specifying the abundanceName keyword. For example, abundanceName = \u2018cosmic_1973_allen.abund\u2019. If the specified file is not found in XUVTOP/abundance, then a widget will pop up and one can select the abundance file from a list.\n",
      "\n",
      "It is also possible to specify a selection of ions by means of the ionList keyword, for example, ionList=[\u2018fe_11\u2019,\u2019fe_12\u2019,\u2019fe_13\u2019] or with the elementList keyword, for example, elementList=[\u2018mg\u2019,\u2019si\u2019]\n",
      "\n",
      "For a minAbund of 1.e-4, 20 ions were calculated in 21 s. If the keyword argument minAbund were set to 1.e-5, then the spectra of 80 ions would be calculated. This would take about 8 min. on a single processor running at about 3 GHz."
     ]
    },
    {
     "cell_type": "code",
     "collapsed": false,
     "input": [
      "s2 = ch.spectrum(temp, dens, wvl, filter = (chfilters.gaussian,.2), em = emeasure, doContinuum=0, keepIons=1, elementList=['si'], minAbund=1.e-4)\n",
      "pl.subplot(211)\n",
      "pl.plot(wvl,s2.Spectrum['intensity'][0])\n",
      "pl.ylabel(r'erg cm$^{-2}$ s$^{-1}$ sr$^{-1} \\AA^{-1}$')\n",
      "pl.subplot(212)\n",
      "pl.plot(wvl,s2.IonInstances['si_9'].Spectrum['intensity'][0])\n",
      "pl.ylabel(r'erg cm$^{-2}$ s$^{-1}$ sr$^{-1} \\AA^{-1}$')\n",
      "pl.xlabel(r'Wavelength ($\\AA$)')\n",
      "pl.title('Si IX')"
     ],
     "language": "python",
     "metadata": {},
     "outputs": [
      {
       "output_type": "stream",
       "stream": "stdout",
       "text": [
        " elapsed seconds =       12.000\n"
       ]
      },
      {
       "metadata": {},
       "output_type": "pyout",
       "prompt_number": 17,
       "text": [
        "<matplotlib.text.Text at 0x7f91832bc350>"
       ]
      }
     ],
     "prompt_number": 17
    },
    {
     "cell_type": "markdown",
     "metadata": {},
     "source": [
      "Because **keepIons** has been set, the ion instances of all of the ions are maintained in the s2.IonInstances dictionary. It is then possible to compare the spectrum of all of the ions with the spectrum of a single ion."
     ]
    },
    {
     "cell_type": "code",
     "collapsed": false,
     "input": [
      "temp = 1.e+7\n",
      "dens = 1.e+9\n",
      "wvl = 1. + 0.002*np.arange(4501)\n",
      "s3 = ch.spectrum(temp, dens, wvl, filter = (chfilters.gaussian,.015),em=1.e+18,minAbund=1.e-6)\n",
      "pl.plot(wvl, s3.Spectrum['intensity'])"
     ],
     "language": "python",
     "metadata": {},
     "outputs": [
      {
       "output_type": "stream",
       "stream": "stdout",
       "text": [
        " filename = /data2/svn/chianti/dbase/trunk/ar/ar_2/ar_2.fblvl\n",
        " for ion ar_2 rfblvl file message  fblvl file does not exist\n",
        " filename = /data2/svn/chianti/dbase/trunk/ar/ar_6/ar_6.fblvl"
       ]
      },
      {
       "output_type": "stream",
       "stream": "stdout",
       "text": [
        "\n",
        " for ion ar_6 fblvl file message  fblvl file does not exist\n",
        " filename = /data2/svn/chianti/dbase/trunk/ca/ca_6/ca_6.fblvl"
       ]
      },
      {
       "output_type": "stream",
       "stream": "stdout",
       "text": [
        "\n",
        " for ion ca_6 fblvl file message  fblvl file does not exist\n",
        " filename = /data2/svn/chianti/dbase/trunk/ca/ca_7/ca_7.fblvl"
       ]
      },
      {
       "output_type": "stream",
       "stream": "stdout",
       "text": [
        "\n",
        " for ion ca_7 fblvl file message  fblvl file does not exist\n",
        " filename = /data2/svn/chianti/dbase/trunk/ca/ca_8/ca_8.fblvl"
       ]
      },
      {
       "output_type": "stream",
       "stream": "stdout",
       "text": [
        "\n",
        " for ion ca_8 fblvl file message  fblvl file does not exist\n",
        " filename = /data2/svn/chianti/dbase/trunk/na/na_9/na_9.fblvl"
       ]
      },
      {
       "output_type": "stream",
       "stream": "stdout",
       "text": [
        "\n",
        " for ion na_9 fblvl file message  fblvl file does not exist\n",
        " filename = /data2/svn/chianti/dbase/trunk/na/na_10/na_10.fblvl"
       ]
      },
      {
       "output_type": "stream",
       "stream": "stdout",
       "text": [
        "\n",
        " for ion na_10 fblvl file message  fblvl file does not exist\n",
        " filename = /data2/svn/chianti/dbase/trunk/na/na_3/na_3.fblvl"
       ]
      },
      {
       "output_type": "stream",
       "stream": "stdout",
       "text": [
        "\n",
        " for ion na_3 fblvl file message  fblvl file does not exist\n",
        " filename = /data2/svn/chianti/dbase/trunk/na/na_4/na_4.fblvl"
       ]
      },
      {
       "output_type": "stream",
       "stream": "stdout",
       "text": [
        "\n",
        " for ion na_4 fblvl file message  fblvl file does not exist\n",
        " filename = /data2/svn/chianti/dbase/trunk/na/na_5/na_5.fblvl"
       ]
      },
      {
       "output_type": "stream",
       "stream": "stdout",
       "text": [
        "\n",
        " for ion na_5 fblvl file message  fblvl file does not exist\n",
        " filename = /data2/svn/chianti/dbase/trunk/na/na_6/na_6.fblvl"
       ]
      },
      {
       "output_type": "stream",
       "stream": "stdout",
       "text": [
        "\n",
        " for ion na_6 fblvl file message  fblvl file does not exist\n",
        " filename = /data2/svn/chianti/dbase/trunk/na/na_7/na_7.fblvl"
       ]
      },
      {
       "output_type": "stream",
       "stream": "stdout",
       "text": [
        "\n",
        " for ion na_7 fblvl file message  fblvl file does not exist\n",
        " filename = /data2/svn/chianti/dbase/trunk/na/na_8/na_8.fblvl"
       ]
      },
      {
       "output_type": "stream",
       "stream": "stdout",
       "text": [
        "\n",
        " for ion na_8 fblvl file message  fblvl file does not exist\n",
        " filename = /data2/svn/chianti/dbase/trunk/ni/ni_10/ni_10.fblvl"
       ]
      },
      {
       "output_type": "stream",
       "stream": "stdout",
       "text": [
        "\n",
        " for ion ni_10 fblvl file message  fblvl file does not exist\n",
        " filename = /data2/svn/chianti/dbase/trunk/ni/ni_14/ni_14.fblvl"
       ]
      },
      {
       "output_type": "stream",
       "stream": "stdout",
       "text": [
        "\n",
        " for ion ni_14 rfblvl file message  fblvl file does not exist\n",
        " filename = /data2/svn/chianti/dbase/trunk/ni/ni_14/ni_14.fblvl"
       ]
      },
      {
       "output_type": "stream",
       "stream": "stdout",
       "text": [
        "\n",
        " for ion ni_14 fblvl file message  fblvl file does not exist\n",
        " elapsed seconds =      120.000"
       ]
      },
      {
       "output_type": "stream",
       "stream": "stdout",
       "text": [
        "\n"
       ]
      },
      {
       "metadata": {},
       "output_type": "pyout",
       "prompt_number": 16,
       "text": [
        "[<matplotlib.lines.Line2D at 0x7f154319e410>]"
       ]
      }
     ],
     "prompt_number": 16
    },
    {
     "cell_type": "code",
     "collapsed": false,
     "input": [
      "print(' number of ions calculated %i '%(len(s3.IonsCalculated)))"
     ],
     "language": "python",
     "metadata": {},
     "outputs": [
      {
       "output_type": "stream",
       "stream": "stdout",
       "text": [
        " number of ions calculated 73 \n"
       ]
      }
     ],
     "prompt_number": 17
    },
    {
     "cell_type": "markdown",
     "metadata": {},
     "source": [
      "Since the continuum was calculated, it can be plotted separately"
     ]
    },
    {
     "cell_type": "code",
     "collapsed": false,
     "input": [
      "pl.figure()\n",
      "pl.plot(wvl, s3.FreeFree['intensity'],label='FF')\n",
      "pl.plot(wvl, s3.FreeBound['intensity'],label = 'FB')\n",
      "pl.plot(wvl,s3.FreeBound['intensity']+s3.FreeFree['intensity'],label='FF+FB')\n",
      "pl.legend(loc='upper right')"
     ],
     "language": "python",
     "metadata": {},
     "outputs": [
      {
       "metadata": {},
       "output_type": "pyout",
       "prompt_number": 18,
       "text": [
        "<matplotlib.legend.Legend at 0x7f15430277d0>"
       ]
      }
     ],
     "prompt_number": 18
    },
    {
     "cell_type": "code",
     "collapsed": false,
     "input": [],
     "language": "python",
     "metadata": {},
     "outputs": []
    }
   ],
   "metadata": {}
  }
 ]
}